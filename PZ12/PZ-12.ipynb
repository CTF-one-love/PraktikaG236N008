{
 "cells": [
  {
   "cell_type": "markdown",
   "id": "98eaf9bd",
   "metadata": {},
   "source": [
    "### Практическое заняти ПЗ-12"
   ]
  },
  {
   "cell_type": "code",
   "execution_count": 1,
   "id": "d642d2dc",
   "metadata": {},
   "outputs": [],
   "source": [
    "import pandas as pd"
   ]
  },
  {
   "cell_type": "markdown",
   "id": "e80ad3e2",
   "metadata": {},
   "source": [
    "### Создаём наши Датасеты"
   ]
  },
  {
   "cell_type": "code",
   "execution_count": 3,
   "id": "5861579f",
   "metadata": {},
   "outputs": [],
   "source": [
    "marks = pd.read_excel('Предмет 1 - Оценки.xlsx')\n",
    "posesh = pd.read_excel('Предмет 1 - Посещаемость.xlsx')\n",
    "shkala = pd.read_excel('Предмет1-Шкала.xlsx')"
   ]
  },
  {
   "cell_type": "code",
   "execution_count": null,
   "id": "ea9f5b7c",
   "metadata": {},
   "outputs": [],
   "source": [
    "marks"
   ]
  },
  {
   "cell_type": "code",
   "execution_count": null,
   "id": "9b2a746b",
   "metadata": {},
   "outputs": [],
   "source": [
    "posesh"
   ]
  },
  {
   "cell_type": "code",
   "execution_count": null,
   "id": "0aea1d5e",
   "metadata": {},
   "outputs": [],
   "source": [
    "shkala"
   ]
  },
  {
   "cell_type": "markdown",
   "id": "2a1ccf55",
   "metadata": {},
   "source": [
    "### Заменяем пропуски на нули в ДатаСете оценок"
   ]
  },
  {
   "cell_type": "code",
   "execution_count": null,
   "id": "1ced6f50",
   "metadata": {},
   "outputs": [],
   "source": [
    "marks = marks.replace('-', 0)\n",
    "marks"
   ]
  },
  {
   "cell_type": "code",
   "execution_count": null,
   "id": "0cf7c82d",
   "metadata": {},
   "outputs": [],
   "source": [
    "marks[['ПЗ 1', 'ЛК 1', 'ЛК 2', 'ЛК 3', 'ЛК 4', 'ПЗ 10']] = marks[['ПЗ 1', 'ЛК 1', 'ЛК 2', 'ЛК 3', 'ЛК 4', 'ПЗ 10']].astype(int)\n"
   ]
  },
  {
   "cell_type": "code",
   "execution_count": null,
   "id": "9089d14c",
   "metadata": {},
   "outputs": [],
   "source": [
    "pz = len(marks) * [0]\n",
    "lk = len(marks) * [0]"
   ]
  },
  {
   "cell_type": "code",
   "execution_count": null,
   "id": "1f5c8194",
   "metadata": {},
   "outputs": [],
   "source": [
    "for i in range(len(marks)):\n",
    "    pz[i] = (marks.loc[i]['ПЗ 1'] + marks.loc[i]['ПЗ 10'])/2\n",
    "    lk[i] = (marks.loc[i]['ЛК 1'] + marks.loc[i]['ЛК 2'] + marks.loc[i]['ЛК 3'] + marks.loc[i]['ЛК 4'])/4"
   ]
  },
  {
   "cell_type": "code",
   "execution_count": null,
   "id": "311e9acf",
   "metadata": {},
   "outputs": [],
   "source": [
    "df = pd.DataFrame(posesh['Фамилия'])\n",
    "df"
   ]
  },
  {
   "cell_type": "code",
   "execution_count": null,
   "id": "1f4236e7",
   "metadata": {},
   "outputs": [],
   "source": [
    "df.insert(1, 'ЛК', lk)\n",
    "df.insert(2, 'Посещаемость', posesh['Процент'])\n",
    "df.insert(3, 'ПЗ', pz)\n",
    "df"
   ]
  },
  {
   "cell_type": "code",
   "execution_count": null,
   "id": "8610696e",
   "metadata": {},
   "outputs": [],
   "source": [
    "df['Посещаемость'] = df['Посещаемость'].astype(float)"
   ]
  },
  {
   "cell_type": "code",
   "execution_count": null,
   "id": "69ba08f0",
   "metadata": {},
   "outputs": [],
   "source": [
    "df['ЛК'] = df['ЛК'] * 10 / 100\n",
    "df['Посещаемость'] = df['Посещаемость'] * 15 / 100\n",
    "df['ПЗ'] = df['ПЗ'] * 25 / 100"
   ]
  },
  {
   "cell_type": "code",
   "execution_count": null,
   "id": "58077bd1",
   "metadata": {},
   "outputs": [],
   "source": []
  }
 ],
 "metadata": {
  "kernelspec": {
   "display_name": "Python 3 (ipykernel)",
   "language": "python",
   "name": "python3"
  },
  "language_info": {
   "codemirror_mode": {
    "name": "ipython",
    "version": 3
   },
   "file_extension": ".py",
   "mimetype": "text/x-python",
   "name": "python",
   "nbconvert_exporter": "python",
   "pygments_lexer": "ipython3",
   "version": "3.9.16"
  }
 },
 "nbformat": 4,
 "nbformat_minor": 5
}
